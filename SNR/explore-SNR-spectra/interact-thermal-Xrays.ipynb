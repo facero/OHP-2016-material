{
 "cells": [
  {
   "cell_type": "markdown",
   "metadata": {
    "heading_collapsed": false,
    "level": 2
   },
   "source": [
    "## Interactive thermal X-ray emission\n",
    "Interactive function to plot pre-generated X-ray models.<br/>\n",
    "A grid of models were generated with the fakeit command with Xspec (see script make_fakeNEI.sh).<br/>\n",
    "\n",
    "Each model can be seen through the XMM MOS CCD camera or the next generation Athena-XIFU micro-calorimeter instrument.<br/>\n",
    "\n",
    "To execute a cell: select a cell then press the play button in the tool bar above or hit Shift-Enter."
   ]
  },
  {
   "cell_type": "code",
   "execution_count": 4,
   "metadata": {
    "level": 7
   },
   "outputs": [],
   "source": [
    "%matplotlib inline\n",
    "#%config InlineBackend.figure_format = 'retina'\n",
    "\n",
    "# futur division is very important for exponent: 1/2 = 0.5 and not 0\n",
    "#from __future__ import  division, print_function\n",
    "import matplotlib.pyplot as plt\n",
    "from matplotlib.ticker import MultipleLocator, FormatStrFormatter\n",
    "import numpy as np\n",
    "from ipywidgets.widgets.interaction import interact\n",
    "from pandas import read_csv\n",
    "\n",
    "\n",
    "xFormatter = FormatStrFormatter('%s')\n",
    "\n",
    "lines_dict={'O VII': 0.561, 'O VIII': 0.653, 'Ne IX': 0.922, 'Ne X': 1.021,\n",
    "            'Mg XI': 1.352, 'Mg XII': 1.473, 'Si XIII': 1.839, 'Si XIV': 2.004}\n",
    "\n",
    "\n",
    "inst_list=['XMM-MOS','Athena-XIFU']\n",
    "abund_list=['SOLAR', 'FE']\n",
    "def plot_spec(nh=1.0, kT=1.0, logtau=9,ylog=True,line_id=True,instrument=inst_list,abund=abund_list):\n",
    "    \"\"\"\n",
    "    Plot X-ray spectra model from a grid a pre-computed Xspec models.\n",
    "    The input parameters are:\n",
    "    nh: absorption along the line of sight in 10^22 cm-2\n",
    "    kT: plasma temperature in keV\n",
    "    logtau: Log of ionization parameter tau in cm-3 s\n",
    "    \n",
    "    \n",
    "    \"\"\"\n",
    "    \n",
    "    my_file = 'data/%s/xspec_nei_%s_nh%s_kT%s_tau1e%s.dat.gz'%(instrument, abund, nh, kT, logtau)\n",
    "    \n",
    "    data=read_csv(my_file,skiprows=10,delimiter=' ', names=['E','model']) \n",
    "    #E=np.array( data['E'] )    \n",
    "    E, model = data['E'], data['model']\n",
    "    \n",
    "    title=r'nH= %sx10$^{22}$ cm$^{-2}$   kT=%s keV   tau=10$^{%s}$ cm$^{-3}$ s Abund=%s'%( nh, kT, logtau,abund)\n",
    "    fig, ax = plt.subplots(1, 1, figsize=(12,6))\n",
    "\n",
    "    ax.plot(E, model)\n",
    "    \n",
    "    if line_id:\n",
    "        for i,line in enumerate(lines_dict.keys()):\n",
    "            ax.axvline(x=lines_dict[line],linestyle=':')\n",
    "            ax.text(lines_dict[line],1.0/(i+1),' '+line)\n",
    "        \n",
    "    \n",
    "    if ylog : ax.set_yscale('log')\n",
    "    ax.set_xscale('log')\n",
    "    \n",
    "    ax.set_xlim(0.45,9.1)\n",
    "#    ax.set_xlim(6,7)\n",
    "\n",
    "    ax.set_ylim(3e-2,3e4)\n",
    "    \n",
    "    ax.set_xticks([0.5, 1, 3, 9])\n",
    "    ax.xaxis.set_major_formatter(xFormatter)\n",
    "    ax.set_xlabel('Energy (keV)',fontsize=15)\n",
    "    ax.set_ylabel('Counts / s / keV',fontsize=15)\n",
    "    ax.set_title(title,fontsize=15)\n",
    "    \n",
    "    plt.show()\n",
    "\n",
    "    "
   ]
  },
  {
   "cell_type": "code",
   "execution_count": 5,
   "metadata": {
    "level": 7
   },
   "outputs": [
    {
     "data": {
      "application/vnd.jupyter.widget-view+json": {
       "model_id": "aed7c6db274549d7a9cf13e4bc77e8d7",
       "version_major": 2,
       "version_minor": 0
      },
      "text/plain": [
       "interactive(children=(FloatSlider(value=1.0, description='nh', max=2.0, min=0.5, step=0.5), FloatSlider(value=…"
      ]
     },
     "metadata": {},
     "output_type": "display_data"
    },
    {
     "data": {
      "text/plain": [
       "<function __main__.plot_spec>"
      ]
     },
     "execution_count": 5,
     "metadata": {},
     "output_type": "execute_result"
    }
   ],
   "source": [
    "interact(plot_spec,nh=(0.5,2,0.5), kT=(0.5,4,0.5), logtau=(8,13,1))"
   ]
  },
  {
   "cell_type": "code",
   "execution_count": 6,
   "metadata": {
    "level": 7
   },
   "outputs": [
    {
     "data": {
      "application/vnd.jupyter.widget-view+json": {
       "model_id": "68508551dbc7465b913a7be007f6e508",
       "version_major": 2,
       "version_minor": 0
      },
      "text/plain": [
       "interactive(children=(FloatSlider(value=1.0, description='nh', max=2.0, min=0.5, step=0.5), FloatSlider(value=…"
      ]
     },
     "metadata": {},
     "output_type": "display_data"
    },
    {
     "data": {
      "text/plain": [
       "<function __main__.plot_spec2>"
      ]
     },
     "execution_count": 6,
     "metadata": {},
     "output_type": "execute_result"
    }
   ],
   "source": [
    "from mpl_toolkits.axes_grid1.inset_locator import zoomed_inset_axes\n",
    "\n",
    "def plot_spec2(nh=1.0, kT=2.0, logtau=11,ylog=True,abund='SOLAR'):\n",
    "    \"\"\"\n",
    "    Plot X-ray spectra model from a grid a pre-computed Xspec models.\n",
    "    The input parameters are:\n",
    "    nh: absorption along the line of sight in 10^22 cm-2\n",
    "    kT: plasma temperature in keV\n",
    "    logtau: Log of ionization parameter tau in cm-3 s\n",
    "    \n",
    "    \n",
    "    \"\"\"\n",
    "    \n",
    "    instrument='XMM-MOS'\n",
    "    my_file = 'data/%s/xspec_nei_%s_nh%s_kT%s_tau1e%s.dat.gz'%(instrument, abund, nh, kT, logtau)    \n",
    "    data=read_csv(my_file,skiprows=10,delimiter=' ', names=['E','model']) \n",
    "    E, model = data['E'], data['model']\n",
    "    \n",
    "    instrument='Athena-XIFU'\n",
    "    my_file = 'data/%s/xspec_nei_%s_nh%s_kT%s_tau1e%s.dat.gz'%(instrument, abund, nh, kT, logtau)    \n",
    "    data=read_csv(my_file,skiprows=10,delimiter=' ', names=['E','model']) \n",
    "    E2, model2 = data['E'], data['model']\n",
    "    \n",
    "    title=r'nH= %sx10$^{22}$ cm$^{-2}$   kT=%s keV   tau=10$^{%s}$ cm$^{-3}$ s Abund=%s'%( nh, kT, logtau,abund)\n",
    "    fig, ax = plt.subplots(1, 1, figsize=(10,8))\n",
    "\n",
    "    ax.plot(E, model*15,label='XMM-MOS1 * 15')\n",
    "    ax.plot(E2, model2,label='Athena-XIFU')\n",
    "    \n",
    "    \n",
    "    if ylog : ax.set_yscale('log')\n",
    "    ax.set_xscale('log')\n",
    "    \n",
    "    ax.set_xlim(1.4,7)\n",
    "#    ax.set_xlim(6.3,6.9)\n",
    "\n",
    "    ax.set_ylim(1,4e3)\n",
    "#    ax.set_ylim(.01,1e4)\n",
    "    \n",
    "    ax.set_xticks([1.5,2,3,4,5,6,7])\n",
    "    ax.xaxis.set_major_formatter(xFormatter)\n",
    "    ax.set_xlabel('Energy (keV)',fontsize=15)\n",
    "    ax.set_ylabel('Counts / s / keV',fontsize=15)\n",
    "    ax.set_title(title,fontsize=15)\n",
    "    plt.legend()\n",
    "    \n",
    "#    ax2 = zoomed_inset_axes(ax, 1, bbox_to_anchor=[50,50,1,1]) # zoom-factor: 2.5, location: upper-left\n",
    "    ax2 = fig.add_axes([0.2, 0.2, 0.4, 0.2])\n",
    "\n",
    "    ax2.plot(E, model*15)\n",
    "    ax2.plot(E2, model2)\n",
    "    ax2.set_xlim(6.2,6.6)\n",
    "\n",
    "    ax2.set_ylim(1,30)\n",
    "    ax2.set_yscale('log')\n",
    "\n",
    "\n",
    "    plt.show()\n",
    "    \n",
    "interact(plot_spec2,nh=(0.5,2,0.5), kT=(0.5,4,0.5), logtau=(8,9,1))"
   ]
  },
  {
   "cell_type": "code",
   "execution_count": null,
   "metadata": {
    "collapsed": true
   },
   "outputs": [],
   "source": []
  },
  {
   "cell_type": "code",
   "execution_count": null,
   "metadata": {
    "collapsed": true
   },
   "outputs": [],
   "source": []
  }
 ],
 "metadata": {
  "anaconda-cloud": {},
  "kernelspec": {
   "display_name": "Python 3",
   "language": "python",
   "name": "python3"
  },
  "language_info": {
   "codemirror_mode": {
    "name": "ipython",
    "version": 3
   },
   "file_extension": ".py",
   "mimetype": "text/x-python",
   "name": "python",
   "nbconvert_exporter": "python",
   "pygments_lexer": "ipython3",
   "version": "3.6.4"
  },
  "widgets": {
   "state": {
    "165c29b5a6cd4c3b8f752dd1365574d4": {
     "views": [
      {
       "cell_index": 2
      }
     ]
    },
    "46f4f0a1b49c4893a60b410d91827bee": {
     "views": [
      {
       "cell_index": 3
      }
     ]
    }
   },
   "version": "1.2.0"
  }
 },
 "nbformat": 4,
 "nbformat_minor": 1
}
