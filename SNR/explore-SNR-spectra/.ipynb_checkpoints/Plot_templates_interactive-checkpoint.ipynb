{
 "cells": [
  {
   "cell_type": "code",
   "execution_count": 2,
   "metadata": {},
   "outputs": [],
   "source": [
    "%matplotlib inline\n",
    "#%config InlineBackend.figure_format = 'retina'\n",
    "\n",
    "\n",
    "import matplotlib.pyplot as plt\n",
    "from matplotlib.ticker import MultipleLocator, FormatStrFormatter\n",
    "import numpy as np\n",
    "from ipywidgets.widgets.interaction import interact\n",
    "from pandas import read_csv\n",
    "from astropy.io import fits\n",
    "\n",
    "def define_ax():\n",
    "    fig, ax = plt.subplots(1, 1, figsize=(10,6))\n",
    "                 \n",
    "    ax.set_xscale('log')\n",
    "    ax.set_yscale('log')\n",
    "    ax.set_xlim(0.45,9.1)\n",
    "    ax.set_ylim(3e-3,1e3)                  \n",
    "    ax.set_xlabel('Energy (keV)',fontsize=15)\n",
    "    ax.set_ylabel('Counts / s / keV',fontsize=15)\n",
    "    \n",
    "    return fig, ax"
   ]
  },
  {
   "cell_type": "code",
   "execution_count": 51,
   "metadata": {},
   "outputs": [
    {
     "name": "stdout",
     "output_type": "stream",
     "text": [
      "(341, 23, 21)\n"
     ]
    }
   ],
   "source": [
    "nh_list=[0.16]\n",
    "kT_list=[0.2, 0.3, 0.4, 0.5, 0.6, 0.7, 0.8, 0.9, 1.0, 1.25, 1.5, 1.75, 2.0, 2.5, 3, 3.5, 4, 4.5, 5.0, 5.5, 6.0, 6.5, 7.0]\n",
    "abund_list=[0.05, 0.1, 0.2, 0.3, 0.4, 0.5, 0.6, 0.7, 0.8, 0.9, 1.0, 1.25, 1.5, 1.75, 2.0, 2.5, 3.0, 3.5, 4, 4.5, 5]\n",
    "templates=fits.getdata('thermal_kT0.2-7keV_abund0.05-5_template_483samples.fits').T\n",
    "\n",
    "E=np.arange(templates.shape[0])\n",
    "\n",
    "print(templates.shape) # E, kT, abund\n"
   ]
  },
  {
   "cell_type": "code",
   "execution_count": 52,
   "metadata": {},
   "outputs": [],
   "source": [
    "def plot_model(kT_idx,abund_idx,save=False):\n",
    "    \n",
    "    fig, ax = define_ax()\n",
    "    ax.loglog(E, templates[:,kT_idx,abund_idx],label='%s keV, abund=%s'%(kT_list[kT_idx],abund_list[abund_idx]))\n",
    "    ax.set_xlim(10,250)\n",
    "    ax.set_ylim(1e-3,3e3)\n",
    "    plt.legend(fontsize=15)\n",
    "    if save: plt.savefig(f'Apec_thermal_kT{kT_idx:02}_abund1.png')\n",
    "    else: plt.show()\n",
    "    \n",
    "#for i in range(len(kT_list)):\n",
    "#    plot_model(i,10,save=True)\n",
    "    "
   ]
  },
  {
   "cell_type": "code",
   "execution_count": 53,
   "metadata": {},
   "outputs": [
    {
     "data": {
      "application/vnd.jupyter.widget-view+json": {
       "model_id": "2182a35d8aa44048b28347ecba8503af",
       "version_major": 2,
       "version_minor": 0
      },
      "text/plain": [
       "interactive(children=(IntSlider(value=11, description='kT_idx', max=22), IntSlider(value=12, description='abun…"
      ]
     },
     "metadata": {},
     "output_type": "display_data"
    },
    {
     "data": {
      "text/plain": [
       "<function __main__.plot_model(kT_idx, abund_idx, save=False)>"
      ]
     },
     "execution_count": 53,
     "metadata": {},
     "output_type": "execute_result"
    }
   ],
   "source": [
    "\n",
    "interact(plot_model,kT_idx=(0,22), abund_idx=(0,25))"
   ]
  },
  {
   "cell_type": "code",
   "execution_count": null,
   "metadata": {},
   "outputs": [],
   "source": []
  }
 ],
 "metadata": {
  "kernelspec": {
   "display_name": "Python 3",
   "language": "python",
   "name": "python3"
  },
  "language_info": {
   "codemirror_mode": {
    "name": "ipython",
    "version": 3
   },
   "file_extension": ".py",
   "mimetype": "text/x-python",
   "name": "python",
   "nbconvert_exporter": "python",
   "pygments_lexer": "ipython3",
   "version": "3.7.1"
  }
 },
 "nbformat": 4,
 "nbformat_minor": 2
}
