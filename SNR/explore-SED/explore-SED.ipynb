{
 "cells": [
  {
   "cell_type": "markdown",
   "metadata": {
    "heading_collapsed": false,
    "level": 2
   },
   "source": [
    "## Interactive Spectral Energy distribution\n",
    "\n",
    "The goal of this tool is to show you how physical parameters impact the observed multi-wavelength flux.<br/>\n",
    "The module used here is naima (http://naima.readthedocs.io/en/latest/) a package for computation of non-thermal radiation from relativistic particle populations and Markov Chain Monte Carlo fitting.  <br/>\n",
    "\n",
    "To install naima:\n",
    "\n",
    "conda config --add channels astropy --add channels sherpa #to add astropy affiliated packages to conda manager <br/>\n",
    "conda install naima\n",
    "\n"
   ]
  },
  {
   "cell_type": "code",
   "execution_count": 1,
   "metadata": {
    "level": 7
   },
   "outputs": [
    {
     "name": "stderr",
     "output_type": "stream",
     "text": [
      "WARNING: AstropyDeprecationWarning: astropy.extern.six will be removed in 4.0, use the six module directly if it is still needed [astropy.extern.six]\n"
     ]
    }
   ],
   "source": [
    "%matplotlib inline\n",
    "\n",
    "from naima import models\n",
    "import naima\n",
    "from astropy import units as u\n",
    "from astropy import table\n",
    "from astropy.io import ascii\n",
    "\n",
    "from matplotlib import pyplot as plt\n",
    "from matplotlib.ticker import FormatStrFormatter\n",
    "import numpy as np\n",
    "from ipywidgets.widgets.interaction import interact\n",
    "\n",
    "def plotSED_data(SEDfile,label='data',color='blue'):\n",
    "    print('Reading file =', SEDfile)\n",
    "    SED = table.Table.read( SEDfile, hdu=1 )        \n",
    "    plt.errorbar(E[index],E2flux[index],yerr=arrowfraction*E2flux[index],uplims=True,fmt=\"none\",ecolor=color)\n",
    "\n",
    "def plotSED_sync_ic( dist= 1 *u.kpc, We=1e47 *u.erg, Eemin=1*u.MeV,\n",
    "                    e_cut = 100*u.TeV,B=10 *u.uG,field=\"CMB\", rho=1*u.cm**-3,index1=2,N=200):\n",
    "    \"\"\"\n",
    "    Distance needs to be in kpc\n",
    "    \"\"\"\n",
    "    Eunits = u.eV\n",
    "    Elow = np.logspace(-7,10, N) * Eunits # photon energies\n",
    "    Ehigh = np.logspace(0,15, N) * Eunits # photon energies\n",
    "\n",
    "    electrondist = models.ExponentialCutoffPowerLaw(\n",
    "        amplitude=u.Quantity(1e36,\"1/eV\"), e_0= 1*Eunits,alpha=index1, e_cutoff=e_cut, beta=2)\n",
    "\n",
    "    ic = models.InverseCompton( electrondist, seed_photon_fields=field, Eemin=Eemin )\n",
    "    syn = models.Synchrotron(electrondist, B=B,Eemin=Eemin)\n",
    "    brem = models.Bremsstrahlung(electrondist,n0=rho,Eemin=Eemin)\n",
    "    \n",
    "    ic.set_We(We, Eemin=Eemin, Eemax=100 *u.TeV)\n",
    "    syn.set_We(We, Eemin=Eemin, Eemax=100 *u.TeV)\n",
    "    brem.set_We(We, Eemin=Eemin, Eemax=100 *u.TeV)\n",
    "    plt.loglog(Elow, syn.sed(Elow,distance=dist ),'-', alpha=0.8,label='Synchrotron')\n",
    "    plt.loglog(Ehigh, ic.sed(Ehigh,distance=dist ),'-', alpha=0.8,label='Inverse Compton')\n",
    "    plt.loglog(Ehigh, brem.sed(Ehigh,distance=dist ),'-', alpha=0.8,label='Bremsstrahlung')\n",
    "\n",
    "    \n",
    "#    for f in field:\n",
    "#        ic = models.InverseCompton( electrondist, seed_photon_fields=[f],Eemin=Eemin )\n",
    "#        ic.set_We(We, Eemin=Eemin, Eemax=100 *u.TeV)\n",
    "#        plt.loglog(Ehigh, ic.sed(Ehigh,distance=dist ),'-', alpha=0.8,label=f'IC {f[0]}')\n",
    "        \n",
    "\n",
    "def plotSED_pi0( dist = 1*u.kpc, rho=1* u.cm**-3, B=10 *u.uG,\n",
    "                Wp=1e50 *u.erg, e_cut = 100*u.TeV,  index=2,N=200):\n",
    "    \"\"\"\n",
    "    Distance needs to be in kpc and density in cm-3\n",
    "    \"\"\"\n",
    "    \n",
    "    Eunits = u.eV\n",
    "    E = np.logspace(-8,15.5, N) * Eunits # photon energies\n",
    "    partdist = models.ExponentialCutoffPowerLaw(\n",
    "        amplitude=u.Quantity(1e36,\"1/eV\"), e_0= 1*Eunits, alpha=index, e_cutoff=e_cut)\n",
    "    \n",
    "    pi0 = models.PionDecay(partdist, nh = rho)\n",
    "#    psynch = models.ProtonSynchrotron(partdist, B=B)\n",
    "    \n",
    "    pi0.set_Wp(Wp, Epmin=1 *u.GeV, Epmax=300 *u.TeV)\n",
    "#    psynch.set_Wp(Wp, Epmin=1 * u.GeV, Epmax=300 *u.TeV)\n",
    "    \n",
    "    plt.loglog(E, pi0.sed(E,distance=dist ),'-', alpha=0.8,label='$\\pi^{\\circ}$ decay')\n",
    "#    plt.loglog(E, psynch.sed(E,distance=distance )*1e2,'-', alpha=0.8,label='proton Synch')\n",
    "\n",
    "    \n",
    "def plot_sens(ax, myfile,ls='--',label=''):\n",
    "    tab = ascii.read(myfile)\n",
    "    ax.plot(tab['energy'], tab['sensitivity'],ls=ls,label=label)"
   ]
  },
  {
   "cell_type": "code",
   "execution_count": 2,
   "metadata": {
    "level": 7
   },
   "outputs": [],
   "source": [
    "\n",
    "#dist = 5 * u.kpc\n",
    "rho = 1.0 * u.cm**-3\n",
    "We = 1e47 *u.erg\n",
    "Wp = 1e50 *u.erg\n",
    "Ecut_p = 100 *u.TeV\n",
    "Eemin = 1 *u.MeV\n",
    "Ecut_e = 100 *u.TeV\n",
    "tel_dict={\"Radio\":[4e-7,4e-3],\"X-ray\":[0.5e3,100e3],\n",
    "          \"Fermi-LAT\":[1e8,5e11],\"Cherenkov\":[1e11,300e12]}\n"
   ]
  },
  {
   "cell_type": "code",
   "execution_count": 3,
   "metadata": {
    "level": 7,
    "scrolled": false
   },
   "outputs": [
    {
     "data": {
      "application/vnd.jupyter.widget-view+json": {
       "model_id": "b6ed0a3ca4a242599f5e368a299be017",
       "version_major": 2,
       "version_minor": 0
      },
      "text/plain": [
       "interactive(children=(Dropdown(description='dist', options=(1, 3, 5, 8), value=1), FloatSlider(value=1.0, desc…"
      ]
     },
     "metadata": {},
     "output_type": "display_data"
    },
    {
     "data": {
      "text/plain": [
       "<function __main__.plotSED(dist=1, rho=1, Ecut_p=<Quantity 100. TeV>, Eemin=<Quantity 1. MeV>, Ecut_e=<Quantity 100. TeV>, index1=2, B=50, We=47, save=False)>"
      ]
     },
     "execution_count": 3,
     "metadata": {},
     "output_type": "execute_result"
    }
   ],
   "source": [
    "def plotSED(dist=1,rho=1,Ecut_p=Ecut_p,Eemin=Eemin,Ecut_e=Ecut_e,index1=2,B=50,We=47,save=False):\n",
    "    \"\"\"\n",
    "    Plot SED from an electron+proton population with Powerlaw + Exp cutoff distribution.\n",
    "    Parameters:\n",
    "    Index     :   Slope of the particle population\n",
    "    Ecut_e/p  : Cutoff energy in TeV\n",
    "    rho       : for the Pi0 decay, density of medium colliding with accelerated protons in cm-3\n",
    "    B         : Magnetic field (microGauss) for synchrotron emission\n",
    "    \n",
    "    Notes:\n",
    "    For the IC mechanism, only the CMB is assumed but naima supports other radiation field.\n",
    "    \"\"\"\n",
    "    \n",
    "    fig = plt.figure(figsize=(12,6))\n",
    "    \n",
    "    FIR_temp = 26 *u.K\n",
    "    Uph = 1 *u.eV/u.cm**3\n",
    "    print(dist)\n",
    "    plotSED_sync_ic(dist=dist*u.kpc,We=(10**We)*u.erg, index1=index1,field = ['CMB', ['FIR', FIR_temp, Uph]],\n",
    "                    Eemin=Eemin*u.MeV,e_cut=Ecut_e*u.TeV, B=B*u.uG,rho=rho*u.cm**-3)\n",
    "    plotSED_pi0(dist=dist*u.kpc,rho=rho*u.cm**-3,Wp=1e50*u.erg, e_cut=Ecut_p*u.TeV, B=B*u.uG,  index=index1)\n",
    "#    plotSED_data()\n",
    "\n",
    "#    data=get_data_rxj('fullSNR')\n",
    "#    data=get_data_casA('SE_filament')\n",
    "#    datax=get_data_CasA_xray('allSNR')\n",
    "#    naima.plot_data(datax,figure=fig)\n",
    "#    datar=get_data_CasA_radio()\n",
    "#    naima.plot_data(datar,figure=fig)\n",
    "\n",
    "    \n",
    "    \n",
    "    ymax=1e-8\n",
    "    plt.ylim(3e-16,ymax)\n",
    "    plt.xlim(3e-7,1e15)\n",
    "    size=14\n",
    "    plt.ylabel(r'$E^2$ d$N$/d$E$ (erg cm$^{-2}$ s$^{-1}$)',fontsize=size)\n",
    "    plt.xlabel(r'$E$ (eV)',fontsize=size)\n",
    "    ax = plt.gca()\n",
    "    ax.xaxis.set_major_formatter(FormatStrFormatter('%.e') )\n",
    "    for tel in tel_dict:\n",
    "        ax.axvspan(tel_dict[tel][0],tel_dict[tel][1],alpha=0.2,color='grey')\n",
    "        plt.text(tel_dict[tel][0],ymax*1.13,tel, fontsize=size)\n",
    "\n",
    "    \n",
    "    plot_sens(ax, 'LHAASO-sensitivity-1yr.dat', ls='--',label='LHAASO 1yr')    \n",
    "    plot_sens(ax, 'LHAASO-sensitivity-5yr.dat', ls='-',label='LHAASO 5yrs')\n",
    "    \n",
    "        \n",
    "    plt.legend(numpoints=1, loc='upper left')\n",
    "    if save :\n",
    "        outfile=f'SNR_d{dist}kpc_B{B}_rho{rho}_index{index1}_Ece{Ecut_e}_Ecp{Ecut_p}_We{We}.pdf'\n",
    "        plt.savefig(outfile,dpi=100)\n",
    "        print('File saved to : %s'%(outfile))\n",
    "    plt.show()\n",
    "\n",
    "\n",
    "interact(plotSED,dist=[1,3,5,8],Ecut_p=(1e1,1.01e3,1e2),Eemin=(1,100,2.5),Ecut_e=(1e1,50,2.5),index1=(1.75,2.5,0.1),\n",
    "         rho=(0.1,30,1), B=(10,100,5),We=(46.5,49.5,0.1),save=False )"
   ]
  },
  {
   "cell_type": "code",
   "execution_count": null,
   "metadata": {},
   "outputs": [],
   "source": []
  }
 ],
 "metadata": {
  "kernelspec": {
   "display_name": "Python 3",
   "language": "python",
   "name": "python3"
  },
  "language_info": {
   "codemirror_mode": {
    "name": "ipython",
    "version": 3
   },
   "file_extension": ".py",
   "mimetype": "text/x-python",
   "name": "python",
   "nbconvert_exporter": "python",
   "pygments_lexer": "ipython3",
   "version": "3.7.1"
  }
 },
 "nbformat": 4,
 "nbformat_minor": 1
}
