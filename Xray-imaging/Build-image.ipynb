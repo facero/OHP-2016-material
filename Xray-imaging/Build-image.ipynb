{
 "cells": [
  {
   "cell_type": "code",
   "execution_count": null,
   "metadata": {
    "collapsed": true
   },
   "outputs": [],
   "source": [
    "%matplotlib inline\n",
    "# futur division is very important for exponent: 1/2 = 0.5 and not 0\n",
    "from __future__ import  division, print_function\n",
    "\n",
    "import numpy as np\n",
    "import matplotlib.pyplot as plt\n",
    "from mpl_toolkits.axes_grid1 import make_axes_locatable\n",
    "from IPython.html.widgets import interact, fixed\n",
    "from astropy.io import fits\n",
    "from astropy import table, wcs\n",
    "from astropy.coordinates import SkyCoord\n",
    "from astropy.convolution import convolve,convolve_fft, Gaussian2DKernel\n",
    "from scipy.ndimage import interpolation\n",
    "from scipy import interpolate\n",
    "import os\n",
    "\n",
    "%load_ext line_profiler\n",
    "\n",
    "import profilelib\n",
    "reload(profilelib)\n",
    "from profilelib import boxprofile_im, boxprofile_evt,  hdrfromevt, writebkgCRmap, sumprof, sumprof2 \n",
    "\n",
    "def ds9box(regfile):\n",
    "    \"\"\"\n",
    "    Reads in a ds9 box region file in ds9 format and coord in degrees.\n",
    "    Returns the values : xc, yc, length, thick, angle in degrees\n",
    "    \"\"\"\n",
    "    f1 = open (regfile, \"r\")\n",
    "    text = f1.read()\n",
    "    box_ =  text.split('box')\n",
    "\n",
    "    box = (box_[1].split(' #') )[0] #in case there are ds9 comments\n",
    "    xc, yc, length, thick, angle = box.replace('(','').replace(')','').replace('\"','').split(',')\n",
    "    \n",
    "    print 'ds9 region file: ', regfile\n",
    "    print 'Coordinates read: ', float(xc), float(yc), float(length)/3600, float(thick)/3600, float(angle)\n",
    "    print\n",
    "    \n",
    "    return float(xc), float(yc), float(length)/3600, float(thick)/3600, float(angle)\n"
   ]
  }
 ],
 "metadata": {
  "kernelspec": {
   "display_name": "Python 2",
   "language": "python",
   "name": "python2"
  },
  "language_info": {
   "codemirror_mode": {
    "name": "ipython",
    "version": 2
   },
   "file_extension": ".py",
   "mimetype": "text/x-python",
   "name": "python",
   "nbconvert_exporter": "python",
   "pygments_lexer": "ipython2",
   "version": "2.7.8"
  }
 },
 "nbformat": 4,
 "nbformat_minor": 0
}
