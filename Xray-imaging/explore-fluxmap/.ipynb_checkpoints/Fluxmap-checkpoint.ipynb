{
 "cells": [
  {
   "cell_type": "markdown",
   "metadata": {
    "heading_collapsed": false,
    "level": 2
   },
   "source": [
    "## Generating maps and mosaic\n",
    "\n",
    "In this chapter we will see how to generate vignetting corrected sky maps based on pre-generated count maps, background maps and exposure maps.<br/>\n",
    "\n",
    "### Step 1)\n",
    "To start try to produce a  vignetting corrected, background subtracted map for MOS1 and MOS2 independently.\n",
    "In the data directory, three poitings of the large (1° diameter) SNR RX J1713 have been pre-processed in the 0.5-2 keV energy band.\n",
    "For each observation and for each MOS1, MOS2 cameras, three images are availabe:<br/>\n",
    "\n",
    "\\*IMAGE\\*FTZ:  count map   <br/>\n",
    "\\*BKGND\\*FTZ:  background map from Blank Sky observations <br/>\n",
    "\\*EXPMAP\\*FTZ:  exposure map  <br/>\n",
    "\n",
    "\n"
   ]
  },
  {
   "cell_type": "code",
   "execution_count": 4,
   "metadata": {
    "collapsed": false,
    "level": 7
   },
   "outputs": [],
   "source": [
    "#Let's get started by loading the usual modules\n",
    "%matplotlib inline\n",
    "from __future__ import  division, print_function\n",
    "import warnings\n",
    "warnings.filterwarnings('ignore')\n",
    "\n",
    "import numpy as np\n",
    "import matplotlib.pyplot as plt\n",
    "from ipywidgets import interact, fixed\n",
    "from astropy.io import fits\n",
    "from astropy import table, wcs\n",
    "from astropy.convolution import convolve,convolve_fft, Gaussian2DKernel\n",
    "from matplotlib.colors import PowerNorm,LogNorm"
   ]
  },
  {
   "cell_type": "code",
   "execution_count": 5,
   "metadata": {
    "collapsed": false,
    "level": 7
   },
   "outputs": [
    {
     "data": {
      "image/png": "[encoded data removed]",
      "text/plain": [
       "<matplotlib.figure.Figure at 0x10e23d650>"
      ]
     },
     "metadata": {},
     "output_type": "display_data"
    }
   ],
   "source": [
    "datadir='data/'\n",
    "imagefile=datadir+'P0093670301M2S003IMAGE_2000.FTZ'\n",
    "bkgfile=datadir+'P0093670301M2S003BKGND_2000.FTZ'\n",
    "expfile=datadir+'P0093670301M2S003EXPMAP2000.FTZ'\n",
    "\n",
    "\n",
    "image=fits.getdata(imagefile)\n",
    "bkg=fits.getdata(bkgfile)\n",
    "exp=fits.getdata(expfile)\n",
    "\n",
    "hdr=fits.getheader(imagefile)\n",
    "w = wcs.WCS(hdr)\n",
    "\n",
    "# ... Fill in missing code here ...\n",
    "# Your goal is to produce a vignetting corrected, bkg subtracted image\n",
    "# Then smooth the image. Use the Gaussian2DKernel and convolve function from astropy\n",
    "\n",
    "\n",
    "fig = plt.figure(figsize=(6,6))\n",
    "ax = fig.add_subplot(1, 1, 1, projection=w) # define a figure in WCS coordinate using header information\n",
    "\n",
    "#To plot an image use the ax.imshow(toto) command\n",
    "\n",
    "\n",
    "    \n"
   ]
  },
  {
   "cell_type": "code",
   "execution_count": null,
   "metadata": {
    "collapsed": false
   },
   "outputs": [],
   "source": []
  },
  {
   "cell_type": "code",
   "execution_count": null,
   "metadata": {
    "collapsed": true
   },
   "outputs": [],
   "source": []
  },
  {
   "cell_type": "code",
   "execution_count": null,
   "metadata": {
    "collapsed": true
   },
   "outputs": [],
   "source": []
  },
  {
   "cell_type": "markdown",
   "metadata": {
    "collapsed": true,
    "heading_collapsed": false,
    "level": 2
   },
   "source": [
    "## Step 2)\n",
    "\n",
    "Try to redo the same process but this time to create a small mosaic by mosaicing together MOS1+MOS2 cameras in all three observations.\n",
    "\n",
    "To stitch images together you can use the SAS command emosaic. Example:<br/>\n",
    "<pre> emosaic imagesets=\"image1.fits image2.fits\" mosaicedset=mosaic.fits </pre>\n",
    "\n",
    "To execute a shell command use within python:\n",
    "\n",
    "<pre>subprocess.call('emosaic imagesets=\"image1.fits image2.fits\" mosaicedset=mosaic.fits', shell=True) </pre>\n",
    "\n",
    "\n",
    "Tips:<br/>\n",
    "To select all files matching a regular expression use the glob module.<br/>\n",
    "<pre>\n",
    "import glob\n",
    "for file in glob.glob('*IMAGE*FTZ'):\n",
    "    print(file)</pre>\n",
    "    \n",
    "\n",
    "\n",
    "Create a command to mosaic the XMM count map, exposure map and bkg map of MOS1+MOS2 to create a mosaic of the several observations. <br/>\n",
    "It's easier to create a full mosaic of cmap, exp map, bkg map for each instruments then sum it. "
   ]
  },
  {
   "cell_type": "code",
   "execution_count": 9,
   "metadata": {
    "collapsed": false
   },
   "outputs": [
    {
     "name": "stdout",
     "output_type": "stream",
     "text": [
      "\u001b[31mP0093670301M1S002BKGND_2000.FTZ\u001b[m\u001b[m* \u001b[31mP0203470501M2S003BKGND_2000.FTZ\u001b[m\u001b[m*\r\n",
      "\u001b[31mP0093670301M1S002EXPMAP2000.FTZ\u001b[m\u001b[m* \u001b[31mP0203470501M2S003EXPMAP2000.FTZ\u001b[m\u001b[m*\r\n",
      "\u001b[31mP0093670301M1S002IMAGE_2000.FTZ\u001b[m\u001b[m* \u001b[31mP0203470501M2S003IMAGE_2000.FTZ\u001b[m\u001b[m*\r\n",
      "\u001b[31mP0093670301M2S003BKGND_2000.FTZ\u001b[m\u001b[m* \u001b[31mP0207300201M1S001BKGND_2000.FTZ\u001b[m\u001b[m*\r\n",
      "\u001b[31mP0093670301M2S003EXPMAP2000.FTZ\u001b[m\u001b[m* \u001b[31mP0207300201M1S001EXPMAP2000.FTZ\u001b[m\u001b[m*\r\n",
      "\u001b[31mP0093670301M2S003IMAGE_2000.FTZ\u001b[m\u001b[m* \u001b[31mP0207300201M1S001IMAGE_2000.FTZ\u001b[m\u001b[m*\r\n",
      "\u001b[31mP0203470501M1S002BKGND_2000.FTZ\u001b[m\u001b[m* \u001b[31mP0207300201M2S002BKGND_2000.FTZ\u001b[m\u001b[m*\r\n",
      "\u001b[31mP0203470501M1S002EXPMAP2000.FTZ\u001b[m\u001b[m* \u001b[31mP0207300201M2S002EXPMAP2000.FTZ\u001b[m\u001b[m*\r\n",
      "\u001b[31mP0203470501M1S002IMAGE_2000.FTZ\u001b[m\u001b[m* \u001b[31mP0207300201M2S002IMAGE_2000.FTZ\u001b[m\u001b[m*\r\n"
     ]
    }
   ],
   "source": [
    "ls data/"
   ]
  },
  {
   "cell_type": "code",
   "execution_count": null,
   "metadata": {
    "collapsed": true
   },
   "outputs": [],
   "source": []
  }
 ],
 "metadata": {
  "kernelspec": {
   "display_name": "Python 2",
   "language": "python",
   "name": "python2"
  },
  "language_info": {
   "codemirror_mode": {
    "name": "ipython",
    "version": 2
   },
   "file_extension": ".py",
   "mimetype": "text/x-python",
   "name": "python",
   "nbconvert_exporter": "python",
   "pygments_lexer": "ipython2",
   "version": "2.7.11"
  }
 },
 "nbformat": 4,
 "nbformat_minor": 0
}
